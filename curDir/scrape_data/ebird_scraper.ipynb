{
 "cells": [
  {
   "cell_type": "code",
   "execution_count": 11,
   "metadata": {},
   "outputs": [],
   "source": [
    "from selenium import webdriver\n",
    "from selenium.webdriver.common.keys import Keys\n",
    "from selenium.webdriver.support import expected_conditions as EC\n",
    "from selenium.webdriver.common.by import By\n",
    "from selenium.webdriver.support.wait import WebDriverWait\n",
    "from bs4 import BeautifulSoup\n",
    "import scrapy\n",
    "import pandas as pd\n",
    "import csv\n",
    "import os\n",
    "import requests\n",
    "import time\n",
    "import random \n",
    "from datetime import datetime\n"
   ]
  },
  {
   "cell_type": "code",
   "execution_count": 2,
   "metadata": {},
   "outputs": [
    {
     "name": "stderr",
     "output_type": "stream",
     "text": [
      "C:\\Users\\LEGION\\AppData\\Local\\Temp\\ipykernel_39056\\4268123770.py:1: DeprecationWarning: executable_path has been deprecated, please pass in a Service object\n",
      "  driver = webdriver.Chrome('./chromedriver.exe')\n"
     ]
    }
   ],
   "source": [
    "driver = webdriver.Chrome('./chromedriver.exe')\n",
    "driver.get('https://ebird.org/explore')\n",
    "input_ebird = WebDriverWait(driver,10).until(EC.element_to_be_clickable((By.CSS_SELECTOR,\"input[placeholder='Enter species name']\")))\n"
   ]
  },
  {
   "cell_type": "code",
   "execution_count": 3,
   "metadata": {},
   "outputs": [],
   "source": [
    "input_ebird.send_keys('Mourning dove')\n",
    "input_ebird.send_keys(Keys.ENTER)\n",
    "time.sleep(2)\n",
    "input_ebird.send_keys(Keys.ENTER)"
   ]
  },
  {
   "cell_type": "code",
   "execution_count": null,
   "metadata": {},
   "outputs": [],
   "source": [
    "url = driver.current_url"
   ]
  },
  {
   "cell_type": "code",
   "execution_count": 19,
   "metadata": {},
   "outputs": [],
   "source": [
    "import requests\n",
    "from bs4 import BeautifulSoup\n",
    "\n",
    "# placeholder=\"Enter species name\" \n",
    "def get_page_of_bird_ebird(bird_name,driver):\n",
    "    driver.get('https://ebird.org/explore')\n",
    "    input_ebird = WebDriverWait(driver,10).until(EC.element_to_be_clickable((By.CSS_SELECTOR,\"input[placeholder='Enter species name']\")))\n",
    "    input_ebird.send_keys(bird_name)\n",
    "    input_ebird.send_keys(Keys.ENTER)\n",
    "    time.sleep(2)\n",
    "    input_ebird.send_keys(Keys.ENTER)\n",
    "    return driver.current_url\n",
    "\n",
    "# URL = \"https://ebird.org/species/grswoo\"\n",
    "def scrape(URL):\n",
    "    page = requests.get(URL)\n",
    "    soup = BeautifulSoup(page.content, \"html.parser\")\n",
    "    results = soup.find_all(\"div\",class_=\"Breadcrumbs\")\n",
    "    names_main = soup.find_all(\"span\",class_=\"Heading-main\")\n",
    "    names_sub = soup.find_all(\"span\",class_=\"Heading-sub\")\n",
    "    udescription=soup.find_all(\"p\",class_=\"u-stack-sm\")\n",
    "    for i,j,k,l in zip(results,names_main,names_sub,udescription):\n",
    "        print('fam , order :',i.get_text())\n",
    "        print('Main :',j.get_text())\n",
    "        print('Sci name :',k.get_text())\n",
    "        print('des : ',l.get_text())\n",
    "# scrape(URL)\n",
    "def scrape_v_2_ebird(URL):\n",
    "    if URL :\n",
    "        d = {}\n",
    "        page = requests.get(URL)\n",
    "        soup = BeautifulSoup(page.content, \"html.parser\")\n",
    "        results = soup.find_all(\"div\",class_=\"Breadcrumbs\")\n",
    "        names_main = soup.find_all(\"span\",class_=\"Heading-main\")\n",
    "        names_sub = soup.find_all(\"span\",class_=\"Heading-sub\")\n",
    "        udescription=soup.find_all(\"p\",class_=\"u-stack-sm\")\n",
    "        \n",
    "        for i,j,k,l in zip(results,names_main,names_sub,udescription):\n",
    "            a = i.get_text().strip().split('\\n')\n",
    "            b = j.get_text().strip()\n",
    "            c = k.get_text().strip()\n",
    "            e = l.get_text()\n",
    "            d[b] = {'Order':a[0],'Family':a[1],'Scientific Name':c,'Description':e}\n",
    "        return d\n",
    "    return 'NODATA'\n",
    "\n",
    "\n",
    "def ebird(fro,to,csv_file,driver):\n",
    "    types_of_birds_df = pd.read_csv('assets/birds.csv',index_col='ID')\n",
    "    list_of_bird_names = [ types_of_birds_df.loc[ _ ,'Common Bird Names'] for _ in range(1,types_of_birds_df.shape[0]) ]\n",
    "    data_from_ebird = {}\n",
    "    re_search_on = [] \n",
    "    writer = csv.writer(open('assets/'+ csv_file +'.csv',\"a\",newline=''))\n",
    "    for bird_name in list_of_bird_names[fro:to]:\n",
    "        # try:\n",
    "        data_from_ebird[bird_name] = scrape_v_2_ebird(get_page_of_bird_ebird(bird_name,driver))\n",
    "        try:\n",
    "            writer.writerow([bird_name,data_from_ebird[bird_name]])\n",
    "        except UnicodeEncodeError:\n",
    "            writer.writerow([list_of_bird_names.index(bird_name),data_from_ebird[bird_name]])\n",
    "        if (not data_from_ebird) or (data_from_ebird[bird_name]=='NODATA') :\n",
    "            re_search_on.append(bird_name)\n",
    "            print('[-] ',bird_name)\n",
    "        else:\n",
    "            print('[+] ',bird_name)\n",
    "        # except Exception:\n",
    "            # writer.writerow([bird_name,'NODATA'])\n",
    "            # print('----------> Unknown Exceptions for Bird ',bird_name)\n",
    "    print(re_search_on)\n",
    "\n",
    "# driver = webdriver.Chrome('./chromedriver.exe')\n",
    "# get_page_of_bird_ebird('parrot',driver)"
   ]
  },
  {
   "cell_type": "code",
   "execution_count": 21,
   "metadata": {},
   "outputs": [
    {
     "name": "stderr",
     "output_type": "stream",
     "text": [
      "C:\\Users\\LEGION\\AppData\\Local\\Temp\\ipykernel_39056\\906290530.py:3: DeprecationWarning: executable_path has been deprecated, please pass in a Service object\n",
      "  driver = webdriver.Chrome('./chromedriver.exe')\n"
     ]
    },
    {
     "name": "stdout",
     "output_type": "stream",
     "text": [
      "[+]  Abbott's booby\n",
      "[+]  Abbott's starling\n",
      "[]\n",
      "\n",
      "\n",
      "Time taken :  0:00:25.758294\n"
     ]
    }
   ],
   "source": [
    "def main_ebird(f,t,ds):\n",
    "    startTime = datetime.now()\n",
    "    driver = webdriver.Chrome('./chromedriver.exe')\n",
    "    ebird(f,t,ds,driver)\n",
    "    print('\\n\\nTime taken : ',datetime.now() - startTime)\n",
    "    driver.quit()\n",
    "main_ebird(1,3,'ebird/ebird_data')"
   ]
  },
  {
   "cell_type": "code",
   "execution_count": 23,
   "metadata": {},
   "outputs": [
    {
     "data": {
      "text/plain": [
       "{}"
      ]
     },
     "execution_count": 23,
     "metadata": {},
     "output_type": "execute_result"
    }
   ],
   "source": [
    "def scrape_v_2_ebird(URL):\n",
    "    d = {}\n",
    "    if URL :\n",
    "        page = requests.get(URL)\n",
    "        soup = BeautifulSoup(page.content, \"html.parser\")\n",
    "        results = soup.find_all(\"div\",class_=\"Breadcrumbs\")\n",
    "        names_main = soup.find_all(\"span\",class_=\"Heading-main\")\n",
    "        names_sub = soup.find_all(\"span\",class_=\"Heading-sub\")\n",
    "        udescription=soup.find_all(\"p\",class_=\"u-stack-sm\")\n",
    "        Conservation = soup.find_all(\"span\",class_=\"Badge u-inline-xs u-color-constatus-lc\")\n",
    "        # birds = pd.DataFrame(columns=['Common Name','Conservation status','Kingdom','Phylum','Class','Order','Family', 'Binomial Name', 'Link'])\n",
    "        for i,j,k,l,m in zip(results,names_main,names_sub,udescription,Conservation):\n",
    "            a = i.get_text().strip().split('\\n')\n",
    "            b = j.get_text().strip()\n",
    "            c = k.get_text().strip()\n",
    "            e = l.get_text()\n",
    "            s = m.get_text().strip().split('\\n')\n",
    "            d[b] = {'Order':a[0],'Family':a[1],'Scientific Name':c,'Description':e,'status':s,'URL':URL}\n",
    "    return d\n",
    "scrape_v_2_ebird('https://ebird.org/species/grswoo')"
   ]
  },
  {
   "cell_type": "code",
   "execution_count": 1,
   "metadata": {},
   "outputs": [
    {
     "ename": "FileNotFoundError",
     "evalue": "[Errno 2] No such file or directory: 'Pick_ebird_1_1500.pkl'",
     "output_type": "error",
     "traceback": [
      "\u001b[1;31m---------------------------------------------------------------------------\u001b[0m",
      "\u001b[1;31mFileNotFoundError\u001b[0m                         Traceback (most recent call last)",
      "\u001b[1;32md:\\Internships\\IndicWiki IIITH\\birds repo\\birds\\birds\\ebird_scraper.ipynb Cell 8'\u001b[0m in \u001b[0;36m<cell line: 2>\u001b[1;34m()\u001b[0m\n\u001b[0;32m      <a href='vscode-notebook-cell:/d%3A/Internships/IndicWiki%20IIITH/birds%20repo/birds/birds/ebird_scraper.ipynb#ch0000007?line=0'>1</a>\u001b[0m \u001b[39mimport\u001b[39;00m \u001b[39mpickle\u001b[39;00m\n\u001b[1;32m----> <a href='vscode-notebook-cell:/d%3A/Internships/IndicWiki%20IIITH/birds%20repo/birds/birds/ebird_scraper.ipynb#ch0000007?line=1'>2</a>\u001b[0m pickle_off \u001b[39m=\u001b[39m \u001b[39mopen\u001b[39;49m (\u001b[39m\"\u001b[39;49m\u001b[39mPick_ebird_1_1500.pkl\u001b[39;49m\u001b[39m\"\u001b[39;49m, \u001b[39m\"\u001b[39;49m\u001b[39mrb\u001b[39;49m\u001b[39m\"\u001b[39;49m)\n\u001b[0;32m      <a href='vscode-notebook-cell:/d%3A/Internships/IndicWiki%20IIITH/birds%20repo/birds/birds/ebird_scraper.ipynb#ch0000007?line=2'>3</a>\u001b[0m emp \u001b[39m=\u001b[39m pickle\u001b[39m.\u001b[39mload(pickle_off)\n\u001b[0;32m      <a href='vscode-notebook-cell:/d%3A/Internships/IndicWiki%20IIITH/birds%20repo/birds/birds/ebird_scraper.ipynb#ch0000007?line=3'>4</a>\u001b[0m \u001b[39mprint\u001b[39m(emp)\n",
      "\u001b[1;31mFileNotFoundError\u001b[0m: [Errno 2] No such file or directory: 'Pick_ebird_1_1500.pkl'"
     ]
    }
   ],
   "source": []
  },
  {
   "cell_type": "code",
   "execution_count": null,
   "metadata": {},
   "outputs": [],
   "source": []
  }
 ],
 "metadata": {
  "kernelspec": {
   "display_name": "Akwiki",
   "language": "python",
   "name": "indicwiki"
  },
  "language_info": {
   "codemirror_mode": {
    "name": "ipython",
    "version": 3
   },
   "file_extension": ".py",
   "mimetype": "text/x-python",
   "name": "python",
   "nbconvert_exporter": "python",
   "pygments_lexer": "ipython3",
   "version": "3.9.7"
  },
  "orig_nbformat": 4
 },
 "nbformat": 4,
 "nbformat_minor": 2
}
