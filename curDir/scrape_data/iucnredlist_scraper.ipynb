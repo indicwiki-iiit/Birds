{
 "cells": [
  {
   "cell_type": "code",
   "execution_count": 1,
   "metadata": {},
   "outputs": [],
   "source": [
    "from selenium import webdriver\n",
    "import time"
   ]
  },
  {
   "cell_type": "code",
   "execution_count": 2,
   "metadata": {},
   "outputs": [
    {
     "name": "stderr",
     "output_type": "stream",
     "text": [
      "C:\\Users\\LEGION\\AppData\\Local\\Temp\\ipykernel_18128\\3483155915.py:1: DeprecationWarning: executable_path has been deprecated, please pass in a Service object\n",
      "  driver = webdriver.Chrome(executable_path='./chromedriver');\n"
     ]
    }
   ],
   "source": [
    "driver = webdriver.Chrome(executable_path='./chromedriver');"
   ]
  },
  {
   "cell_type": "code",
   "execution_count": 4,
   "metadata": {},
   "outputs": [],
   "source": [
    "driver.get('https://www.iucnredlist.org/species/45020636/132189458')"
   ]
  },
  {
   "cell_type": "code",
   "execution_count": 11,
   "metadata": {},
   "outputs": [],
   "source": [
    "driver.get('https://www.iucnredlist.org/')"
   ]
  },
  {
   "cell_type": "code",
   "execution_count": 12,
   "metadata": {},
   "outputs": [],
   "source": [
    "from tkinter import N\n",
    "from selenium import webdriver\n",
    "from selenium.webdriver.common.keys import Keys\n",
    "from selenium.webdriver.support import expected_conditions as EC\n",
    "from selenium.webdriver.common.by import By\n",
    "from selenium.webdriver.support.wait import WebDriverWait\n",
    "birdname = 'Common Ostrich'\n",
    "input_avibase = WebDriverWait(driver,10).until(EC.element_to_be_clickable((By.CSS_SELECTOR,\"input[placeholder='Names - common, scientific, regions etc...']\")))\n",
    "input_avibase.send_keys(birdname)\n",
    "input_avibase.send_keys(Keys.ENTER)"
   ]
  },
  {
   "cell_type": "code",
   "execution_count": 13,
   "metadata": {},
   "outputs": [],
   "source": [
    "xp = '//*[@id=\"redlist-js\"]/div/div/div[2]/section/div[2]/article/a'\n",
    "WebDriverWait(driver, 10).until(EC.presence_of_element_located((By.XPATH, xp)))\n",
    "driver.find_elements(by=By.XPATH, value=xp)[0].click()"
   ]
  },
  {
   "cell_type": "code",
   "execution_count": null,
   "metadata": {},
   "outputs": [],
   "source": []
  },
  {
   "cell_type": "code",
   "execution_count": null,
   "metadata": {},
   "outputs": [],
   "source": []
  },
  {
   "cell_type": "code",
   "execution_count": 6,
   "metadata": {},
   "outputs": [],
   "source": [
    "\n",
    "link = driver.find_elements(by=By.XPATH, value=xp)"
   ]
  },
  {
   "cell_type": "code",
   "execution_count": 7,
   "metadata": {},
   "outputs": [],
   "source": [
    "link[0].click()"
   ]
  },
  {
   "cell_type": "code",
   "execution_count": 15,
   "metadata": {},
   "outputs": [],
   "source": [
    "xp_expand = '//*[@id=\"details__toggle-all\"]'\n",
    "expand = driver.find_elements(by=By.XPATH, value=xp_expand)\n",
    "expand[0].click()"
   ]
  },
  {
   "cell_type": "code",
   "execution_count": 16,
   "metadata": {},
   "outputs": [],
   "source": [
    "xp_year = '/html/body/div[2]/div[2]/main/div/div/div[5]/article[5]/div[2]/div[1]/p[1]'\n",
    "year = driver.find_elements(by=By.XPATH, value=xp_year)"
   ]
  },
  {
   "cell_type": "code",
   "execution_count": 17,
   "metadata": {},
   "outputs": [
    {
     "data": {
      "text/plain": [
       "'16.8 years'"
      ]
     },
     "execution_count": 17,
     "metadata": {},
     "output_type": "execute_result"
    }
   ],
   "source": [
    "year[0].text"
   ]
  },
  {
   "cell_type": "code",
   "execution_count": 18,
   "metadata": {},
   "outputs": [
    {
     "data": {
      "text/plain": [
       "'3,000 metres'"
      ]
     },
     "execution_count": 18,
     "metadata": {},
     "output_type": "execute_result"
    }
   ],
   "source": [
    "xp_alt ='//*[@id=\"geographic-range\"]/div[2]/div[2]/div/p[1]'\n",
    "alt = driver.find_elements(by=By.XPATH, value=xp_alt)\n",
    "alt[0].text"
   ]
  },
  {
   "cell_type": "code",
   "execution_count": 19,
   "metadata": {},
   "outputs": [
    {
     "data": {
      "text/plain": [
       "'Decreasing'"
      ]
     },
     "execution_count": 19,
     "metadata": {},
     "output_type": "execute_result"
    }
   ],
   "source": [
    "xp_populate = '//*[@id=\"redlist-js\"]/div/div[3]/div/div[1]/div[1]/p[2]'\n",
    "populate = driver.find_elements(by=By.XPATH, value=xp_populate)\n",
    "populate[0].text"
   ]
  },
  {
   "cell_type": "code",
   "execution_count": 20,
   "metadata": {},
   "outputs": [
    {
     "data": {
      "text/plain": [
       "'Savanna, Shrubland, Grassland, Artificial/Terrestrial'"
      ]
     },
     "execution_count": 20,
     "metadata": {},
     "output_type": "execute_result"
    }
   ],
   "source": [
    "xp_habitat ='//*[@id=\"redlist-js\"]/div/div[3]/div/div[1]/div[3]/p[2]'\n",
    "habitat = driver.find_elements(by=By.XPATH, value=xp_habitat)\n",
    "habitat[0].text"
   ]
  },
  {
   "cell_type": "code",
   "execution_count": 21,
   "metadata": {},
   "outputs": [
    {
     "data": {
      "text/plain": [
       "'Linnaeus, 1758'"
      ]
     },
     "execution_count": 21,
     "metadata": {},
     "output_type": "execute_result"
    }
   ],
   "source": [
    "xp_sci_n_year = '//*[@id=\"taxonomy-details\"]/div[1]/div[2]/p'\n",
    "sci_n_year = driver.find_elements(by=By.XPATH, value=xp_sci_n_year)\n",
    "sci_n_year[0].text"
   ]
  },
  {
   "cell_type": "code",
   "execution_count": 22,
   "metadata": {},
   "outputs": [
    {
     "name": "stdout",
     "output_type": "stream",
     "text": [
      "Struthio camelus struthioniformes struthionidae struthio\n"
     ]
    }
   ],
   "source": [
    "xp_sci_name = '//*[@id=\"taxonomy-details\"]/div[1]/div[1]/p/span/em[1]'\n",
    "xp_order = '//*[@id=\"taxonomy\"]/div[2]/div[1]/p/a/strong'\n",
    "xp_family = '//*[@id=\"taxonomy\"]/div[2]/div[2]/p/a/strong'\n",
    "xp_genus = '//*[@id=\"taxonomy\"]/div[2]/div[3]/p/a/strong'\n",
    "\n",
    "sci_name = driver.find_elements(by=By.XPATH, value=xp_sci_name)[0].text\n",
    "order = driver.find_elements(by=By.XPATH, value=xp_order)[0].text\n",
    "family = driver.find_elements(by=By.XPATH, value=xp_family)[0].text\n",
    "genus = driver.find_elements(by=By.XPATH, value=xp_genus)[0].text\n",
    "print(sci_name,order,family,genus)\n"
   ]
  },
  {
   "cell_type": "code",
   "execution_count": 35,
   "metadata": {},
   "outputs": [
    {
     "name": "stderr",
     "output_type": "stream",
     "text": [
      "C:\\Users\\LEGION\\AppData\\Local\\Temp\\ipykernel_16328\\218383016.py:12: DeprecationWarning: executable_path has been deprecated, please pass in a Service object\n",
      "  driver = webdriver.Chrome(executable_path='./chromedriver');\n"
     ]
    }
   ],
   "source": [
    "from tkinter import N\n",
    "from selenium import webdriver\n",
    "from selenium.webdriver.common.keys import Keys\n",
    "from selenium.webdriver.support import expected_conditions as EC\n",
    "from selenium.webdriver.common.by import By\n",
    "from selenium.webdriver.support.wait import WebDriverWait\n",
    "# birdname = 'Common Ostrich'\n",
    "import numpy as np\n",
    "import pandas as pd\n",
    "from time import sleep\n",
    "fail = []\n",
    "driver = webdriver.Chrome(executable_path='./chromedriver');\n",
    "def scrape_a_bird(birdname):\n",
    "    driver.get('https://www.iucnredlist.org/')\n",
    "    input_avibase = WebDriverWait(driver,10).until(EC.element_to_be_clickable((By.CSS_SELECTOR,\"input[placeholder='Names - common, scientific, regions etc...']\")))\n",
    "    input_avibase.send_keys(birdname)\n",
    "    input_avibase.send_keys(Keys.ENTER)\n",
    "    sleep(1)\n",
    "    xp = '//*[@id=\"redlist-js\"]/div/div/div[2]/section/div[2]/article/a'\n",
    "    try:\n",
    "        driver.find_elements(by=By.XPATH, value=xp)[0].click()\n",
    "    except Exception:\n",
    "        sleep(1)\n",
    "        new_xp = '//*[@id=\"redlist-js\"]/div/div/div[2]/section/div[2]/article/a'\n",
    "        try:\n",
    "            driver.find_elements(by=By.XPATH, value=new_xp)[0].click()\n",
    "        except Exception:\n",
    "            fail.append(birdname)\n",
    "    finally:        \n",
    "        sleep(1)\n",
    "        xp_expand = '//*[@id=\"details__toggle-all\"]'\n",
    "        try:\n",
    "            expand = driver.find_elements(by=By.XPATH, value=xp_expand)\n",
    "            expand[0].click()\n",
    "        except Exception:\n",
    "            fail.append(birdname+':Expandfail')\n",
    "        finally:\n",
    "            sleep(1)\n",
    "        try:\n",
    "            xp_year = '//*[@id=\"habitat-ecology\"]/div[2]/div[1]/p[1]'\n",
    "            # xp_year = '//*[@id=\"habitat-ecology\"]/div[2]/div[1]/p'\n",
    "            new_xp_year = '//*[@id=\"habitat-ecology\"]/div[2]/div[1]/div/p'\n",
    "            xp_alt ='//*[@id=\"geographic-range\"]/div[2]/div[2]/div/p[1]'\n",
    "            # xp_alt ='//*[@id=\"geographic-range\"]/div[2]/div[2]/div/p'\n",
    "            new_xp_alt ='//*[@id=\"geographic-range\"]/div[2]/div[2]/div/p'\n",
    "            xp_populate = '//*[@id=\"redlist-js\"]/div/div[3]/div/div[1]/div[1]/p[2]'\n",
    "            # xp_populate = '//*[@id=\"redlist-js\"]/div/div[3]/div/div[1]/div[1]/p'\n",
    "            new_xp_populate = '//*[@id=\"redlist-js\"]/div/div[3]/div/div[1]/div[1]/p'\n",
    "            xp_habitat ='//*[@id=\"redlist-js\"]/div/div[3]/div/div[1]/div[3]/p[2]'\n",
    "            # xp_habitat ='//*[@id=\"redlist-js\"]/div/div[3]/div/div[1]/div[3]/p'\n",
    "            new_xp_habitat ='//*[@id=\"redlist-js\"]/div/div[3]/div/div[1]/div[3]/p'\n",
    "            xp_sci_n_year = '//*[@id=\"taxonomy-details\"]/div[1]/div[2]/p'\n",
    "            xp_conserv = '//*[@id=\"assessment-information\"]/div[2]/div/p[1]/a/strong'\n",
    "            xp_sci_name = '//*[@id=\"taxonomy-details\"]/div[1]/div[1]/p/span/em[1]'\n",
    "            # xp_sci_name = '//*[@id=\"taxonomy-details\"]/div[1]/div[1]/p/span/em'\n",
    "            new_xp_sci_name = '//*[@id=\"taxonomy-details\"]/div[1]/div[1]/p/span/em'\n",
    "            xp_order = '//*[@id=\"taxonomy\"]/div[2]/div[1]/p/a/strong'\n",
    "            xp_family = '//*[@id=\"taxonomy\"]/div[2]/div[2]/p/a/strong'\n",
    "            xp_genus = '//*[@id=\"taxonomy\"]/div[2]/div[3]/p/a/strong'\n",
    "            xp_other_c_names = '//*[@id=\"taxonomy-details\"]/div[2]/div[2]/div/p'\n",
    "            sci_name = driver.find_elements(by=By.XPATH, value=xp_sci_name)\n",
    "            d={'Name':[birdname],'IUCN_link':[driver.current_url]}\n",
    "            try:\n",
    "                d['sci_name'] = [sci_name[0].text]\n",
    "            except Exception:\n",
    "                new_xp_sci = '//*[@id=\"taxonomy-details\"]/div[1]/div[2]/p'\n",
    "                try:\n",
    "                    d['sci_name'] = [driver.find_elements(by=By.XPATH, value=new_xp_sci)[0].text]\n",
    "                except Exception:\n",
    "                    d['sci_name'] = np.nan\n",
    "            order = driver.find_elements(by=By.XPATH, value=xp_order)\n",
    "            try:\n",
    "                d['order'] = [order[0].text]\n",
    "            except Exception:\n",
    "                d['order']= np.nan\n",
    "            family = driver.find_elements(by=By.XPATH, value=xp_family)\n",
    "            try:\n",
    "                d['family'] = [family[0].text]\n",
    "            except Exception:\n",
    "                d['family']= np.nan\n",
    "            genus = driver.find_elements(by=By.XPATH, value=xp_genus)\n",
    "            try:\n",
    "                d['genus'] = [genus[0].text]\n",
    "            except Exception:\n",
    "                d['genus']= np.nan\n",
    "            sci_n_year = driver.find_elements(by=By.XPATH, value=xp_sci_n_year)\n",
    "            try:\n",
    "                d['sci_n_year'] = [sci_n_year[0].text]\n",
    "            except Exception:\n",
    "                d['sci_n_year']= np.nan\n",
    "            year = driver.find_elements(by=By.XPATH, value=xp_year)\n",
    "            try:\n",
    "                d['year'] = [year[0].text]\n",
    "            except Exception:\n",
    "                d['year']= np.nan\n",
    "            altitude = driver.find_elements(by=By.XPATH, value=xp_alt)\n",
    "            try:\n",
    "                d['altitude'] = [altitude[0].text]\n",
    "            except Exception:\n",
    "                d['altitude']= np.nan\n",
    "            populate = driver.find_elements(by=By.XPATH, value=xp_populate)\n",
    "            try:\n",
    "                d['populate'] = [populate[0].text]\n",
    "            except Exception:\n",
    "                d['populate']= np.nan\n",
    "            habitat = driver.find_elements(by=By.XPATH, value=xp_habitat)\n",
    "            try:\n",
    "                d['habitat'] =[habitat[0].text]\n",
    "            except Exception:\n",
    "                d['habitat']= np.nan\n",
    "            conservation =  driver.find_elements(by=By.XPATH, value=xp_conserv)\n",
    "            try:\n",
    "                d['conservation'] = [conservation[0].text]\n",
    "            except Exception:\n",
    "                d['conservation']= np.nan\n",
    "            other_names = driver.find_elements(by=By.XPATH, value=xp_other_c_names)\n",
    "            try:\n",
    "                d['other_names'] = [other_names[0].text]\n",
    "            except Exception:\n",
    "                d['other_names'] = np.nan\n",
    "            # print(d)\n",
    "            idf = pd.DataFrame(d)\n",
    "            return idf\n",
    "        except Exception:\n",
    "            fail.append(birdname)\n",
    "            return pd.DataFrame()\n",
    "\n",
    "# scrape_a_bird('Greater Rhea')"
   ]
  },
  {
   "cell_type": "code",
   "execution_count": 36,
   "metadata": {},
   "outputs": [
    {
     "name": "stdout",
     "output_type": "stream",
     "text": [
      "{'Name': ['Choco Tinamou'], 'IUCN_link': ['https://www.iucnredlist.org/species/22678194/92761019'], 'sci_name': ['Crypturellus kerriae'], 'order': ['struthioniformes'], 'family': ['tinamidae'], 'genus': ['crypturellus'], 'sci_n_year': ['(Chapman, 1915)'], 'year': ['6.8 years'], 'altitude': ['1,500 metres'], 'populate': ['Decreasing'], 'habitat': ['Forest'], 'conservation': ['Vulnerable'], 'other_names': ['Choco Tinamou, Chocó Tinamou']}\n"
     ]
    },
    {
     "data": {
      "text/html": [
       "<div>\n",
       "<style scoped>\n",
       "    .dataframe tbody tr th:only-of-type {\n",
       "        vertical-align: middle;\n",
       "    }\n",
       "\n",
       "    .dataframe tbody tr th {\n",
       "        vertical-align: top;\n",
       "    }\n",
       "\n",
       "    .dataframe thead th {\n",
       "        text-align: right;\n",
       "    }\n",
       "</style>\n",
       "<table border=\"1\" class=\"dataframe\">\n",
       "  <thead>\n",
       "    <tr style=\"text-align: right;\">\n",
       "      <th></th>\n",
       "      <th>Name</th>\n",
       "      <th>IUCN_link</th>\n",
       "      <th>sci_name</th>\n",
       "      <th>order</th>\n",
       "      <th>family</th>\n",
       "      <th>genus</th>\n",
       "      <th>sci_n_year</th>\n",
       "      <th>year</th>\n",
       "      <th>altitude</th>\n",
       "      <th>populate</th>\n",
       "      <th>habitat</th>\n",
       "      <th>conservation</th>\n",
       "      <th>other_names</th>\n",
       "    </tr>\n",
       "  </thead>\n",
       "  <tbody>\n",
       "    <tr>\n",
       "      <th>0</th>\n",
       "      <td>Choco Tinamou</td>\n",
       "      <td>https://www.iucnredlist.org/species/22678194/9...</td>\n",
       "      <td>Crypturellus kerriae</td>\n",
       "      <td>struthioniformes</td>\n",
       "      <td>tinamidae</td>\n",
       "      <td>crypturellus</td>\n",
       "      <td>(Chapman, 1915)</td>\n",
       "      <td>6.8 years</td>\n",
       "      <td>1,500 metres</td>\n",
       "      <td>Decreasing</td>\n",
       "      <td>Forest</td>\n",
       "      <td>Vulnerable</td>\n",
       "      <td>Choco Tinamou, Chocó Tinamou</td>\n",
       "    </tr>\n",
       "  </tbody>\n",
       "</table>\n",
       "</div>"
      ],
      "text/plain": [
       "            Name                                          IUCN_link  \\\n",
       "0  Choco Tinamou  https://www.iucnredlist.org/species/22678194/9...   \n",
       "\n",
       "               sci_name             order     family         genus  \\\n",
       "0  Crypturellus kerriae  struthioniformes  tinamidae  crypturellus   \n",
       "\n",
       "        sci_n_year       year      altitude    populate habitat conservation  \\\n",
       "0  (Chapman, 1915)  6.8 years  1,500 metres  Decreasing  Forest   Vulnerable   \n",
       "\n",
       "                    other_names  \n",
       "0  Choco Tinamou, Chocó Tinamou  "
      ]
     },
     "execution_count": 36,
     "metadata": {},
     "output_type": "execute_result"
    }
   ],
   "source": [
    "# scrape_a_bird('Choco Tinamou')"
   ]
  },
  {
   "cell_type": "code",
   "execution_count": 37,
   "metadata": {},
   "outputs": [],
   "source": [
    "driver.close()"
   ]
  },
  {
   "cell_type": "code",
   "execution_count": 15,
   "metadata": {},
   "outputs": [
    {
     "name": "stdout",
     "output_type": "stream",
     "text": [
      "Collecting openpyxl\n",
      "  Using cached openpyxl-3.0.9-py2.py3-none-any.whl (242 kB)\n",
      "Collecting et-xmlfile\n",
      "  Using cached et_xmlfile-1.1.0-py3-none-any.whl (4.7 kB)\n",
      "Installing collected packages: et-xmlfile, openpyxl\n",
      "Successfully installed et-xmlfile-1.1.0 openpyxl-3.0.9\n",
      "Note: you may need to restart the kernel to use updated packages.\n"
     ]
    }
   ],
   "source": [
    "%pip install openpyxl"
   ]
  },
  {
   "cell_type": "code",
   "execution_count": 16,
   "metadata": {},
   "outputs": [
    {
     "data": {
      "text/html": [
       "<div>\n",
       "<style scoped>\n",
       "    .dataframe tbody tr th:only-of-type {\n",
       "        vertical-align: middle;\n",
       "    }\n",
       "\n",
       "    .dataframe tbody tr th {\n",
       "        vertical-align: top;\n",
       "    }\n",
       "\n",
       "    .dataframe thead th {\n",
       "        text-align: right;\n",
       "    }\n",
       "</style>\n",
       "<table border=\"1\" class=\"dataframe\">\n",
       "  <thead>\n",
       "    <tr style=\"text-align: right;\">\n",
       "      <th></th>\n",
       "      <th>Order</th>\n",
       "      <th>Family name</th>\n",
       "      <th>Common name</th>\n",
       "      <th>Scientific name</th>\n",
       "      <th>2021 IUCN Red List category</th>\n",
       "    </tr>\n",
       "  </thead>\n",
       "  <tbody>\n",
       "    <tr>\n",
       "      <th>0</th>\n",
       "      <td>STRUTHIONIFORMES</td>\n",
       "      <td>Struthionidae</td>\n",
       "      <td>Common Ostrich</td>\n",
       "      <td>Struthio camelus</td>\n",
       "      <td>LC</td>\n",
       "    </tr>\n",
       "    <tr>\n",
       "      <th>1</th>\n",
       "      <td>STRUTHIONIFORMES</td>\n",
       "      <td>Struthionidae</td>\n",
       "      <td>Somali Ostrich</td>\n",
       "      <td>Struthio molybdophanes</td>\n",
       "      <td>VU</td>\n",
       "    </tr>\n",
       "    <tr>\n",
       "      <th>2</th>\n",
       "      <td>STRUTHIONIFORMES</td>\n",
       "      <td>Rheidae</td>\n",
       "      <td>Greater Rhea</td>\n",
       "      <td>Rhea americana</td>\n",
       "      <td>NT</td>\n",
       "    </tr>\n",
       "    <tr>\n",
       "      <th>3</th>\n",
       "      <td>STRUTHIONIFORMES</td>\n",
       "      <td>Rheidae</td>\n",
       "      <td>Lesser Rhea</td>\n",
       "      <td>Rhea pennata</td>\n",
       "      <td>LC</td>\n",
       "    </tr>\n",
       "    <tr>\n",
       "      <th>4</th>\n",
       "      <td>STRUTHIONIFORMES</td>\n",
       "      <td>Rheidae</td>\n",
       "      <td>Puna Rhea</td>\n",
       "      <td>Rhea tarapacensis</td>\n",
       "      <td>NT</td>\n",
       "    </tr>\n",
       "  </tbody>\n",
       "</table>\n",
       "</div>"
      ],
      "text/plain": [
       "              Order    Family name     Common name         Scientific name  \\\n",
       "0  STRUTHIONIFORMES  Struthionidae  Common Ostrich        Struthio camelus   \n",
       "1  STRUTHIONIFORMES  Struthionidae  Somali Ostrich  Struthio molybdophanes   \n",
       "2  STRUTHIONIFORMES        Rheidae    Greater Rhea          Rhea americana   \n",
       "3  STRUTHIONIFORMES        Rheidae     Lesser Rhea            Rhea pennata   \n",
       "4  STRUTHIONIFORMES        Rheidae       Puna Rhea       Rhea tarapacensis   \n",
       "\n",
       "  2021 IUCN Red List category  \n",
       "0                          LC  \n",
       "1                          VU  \n",
       "2                          NT  \n",
       "3                          LC  \n",
       "4                          NT  "
      ]
     },
     "execution_count": 16,
     "metadata": {},
     "output_type": "execute_result"
    }
   ],
   "source": [
    "import pandas as pd\n",
    "dz = pd.read_excel(\"assets/DataZone/HBW-BirdLife_List_of_Birds_v6.xlsx\")\n",
    "dz.head(5)"
   ]
  },
  {
   "cell_type": "code",
   "execution_count": 17,
   "metadata": {},
   "outputs": [],
   "source": [
    "list_of_birds = list(dz.loc[:,'Common name'])"
   ]
  },
  {
   "cell_type": "code",
   "execution_count": 18,
   "metadata": {},
   "outputs": [
    {
     "name": "stderr",
     "output_type": "stream",
     "text": [
      "C:\\Users\\LEGION\\AppData\\Local\\Temp\\ipykernel_18128\\2855401723.py:20: DeprecationWarning: executable_path has been deprecated, please pass in a Service object\n",
      "  driver = webdriver.Chrome(executable_path='./chromedriver');\n"
     ]
    },
    {
     "name": "stdout",
     "output_type": "stream",
     "text": [
      "[+] New Britain Thrush\n",
      "[+] Bougainville Thrush\n",
      "[+] Bonin Thrush\n",
      "falied birds :  []\n",
      "\n",
      "\n",
      "Time taken :  0:00:26.918084\n"
     ]
    },
    {
     "data": {
      "text/plain": [
       "'\\nconda activate indicwiki & cd Documents\\x08irds & python Eol_Scraper_Optim.py\\n<f>\\n<t>\\n'"
      ]
     },
     "execution_count": 18,
     "metadata": {},
     "output_type": "execute_result"
    }
   ],
   "source": [
    "from tkinter import N\n",
    "from selenium import webdriver\n",
    "from selenium.webdriver.common.keys import Keys\n",
    "from selenium.webdriver.support import expected_conditions as EC\n",
    "from selenium.webdriver.common.by import By\n",
    "from selenium.webdriver.support.wait import WebDriverWait\n",
    "from bs4 import BeautifulSoup\n",
    "import pandas as pd\n",
    "import csv\n",
    "import requests\n",
    "import time\n",
    "from datetime import datetime\n",
    "import logging\n",
    "from timeit import default_timer as timer\n",
    "import numpy as np\n",
    "import pandas as pd\n",
    "from time import sleep\n",
    "\n",
    "fail = []\n",
    "driver = webdriver.Chrome(executable_path='./chromedriver');\n",
    "def scrape_a_bird(birdname,driver):\n",
    "    driver.get('https://www.iucnredlist.org/')\n",
    "    input_avibase = WebDriverWait(driver,10).until(EC.element_to_be_clickable((By.CSS_SELECTOR,\"input[placeholder='Names - common, scientific, regions etc...']\")))\n",
    "    input_avibase.send_keys(birdname)\n",
    "    input_avibase.send_keys(Keys.ENTER)\n",
    "    sleep(1)\n",
    "    xp = '//*[@id=\"redlist-js\"]/div/div/div[2]/section/div[2]/article/a'\n",
    "    try:\n",
    "        WebDriverWait(driver, 10).until(EC.presence_of_element_located((By.XPATH, xp)))\n",
    "        driver.find_elements(by=By.XPATH, value=xp)[0].click()\n",
    "    except Exception:\n",
    "        sleep(1)\n",
    "        new_xp = '//*[@id=\"redlist-js\"]/div/div/div[2]/section/div[2]/article/a'\n",
    "        try:\n",
    "            WebDriverWait(driver, 10).until(EC.presence_of_element_located((By.XPATH, new_xp)))\n",
    "            driver.find_elements(by=By.XPATH, value=new_xp)[0].click()\n",
    "        except Exception:\n",
    "            fail.append(birdname)\n",
    "    finally:        \n",
    "        # sleep(3)\n",
    "        xp_expand = '//*[@id=\"details__toggle-all\"]'\n",
    "        try:\n",
    "            WebDriverWait(driver, 10).until(EC.presence_of_element_located((By.XPATH, xp_expand)))\n",
    "            expand = driver.find_elements(by=By.XPATH, value=xp_expand)\n",
    "            expand[0].click()\n",
    "        except Exception:\n",
    "            fail.append(birdname+':Expandfail')\n",
    "        finally:\n",
    "            sleep(1)\n",
    "            try:\n",
    "                xp_year = '//*[@id=\"habitat-ecology\"]/div[2]/div[1]/p[1]'\n",
    "                # xp_year = '//*[@id=\"habitat-ecology\"]/div[2]/div[1]/p'\n",
    "                new_xp_year = '//*[@id=\"habitat-ecology\"]/div[2]/div[1]/div/p'\n",
    "                xp_alt ='//*[@id=\"geographic-range\"]/div[2]/div[2]/div/p[1]'\n",
    "                # xp_alt ='//*[@id=\"geographic-range\"]/div[2]/div[2]/div/p'\n",
    "                new_xp_alt ='//*[@id=\"geographic-range\"]/div[2]/div[2]/div/p'\n",
    "                xp_populate = '//*[@id=\"redlist-js\"]/div/div[3]/div/div[1]/div[1]/p[2]'\n",
    "                # xp_populate = '//*[@id=\"redlist-js\"]/div/div[3]/div/div[1]/div[1]/p'\n",
    "                new_xp_populate = '//*[@id=\"redlist-js\"]/div/div[3]/div/div[1]/div[1]/p'\n",
    "                xp_habitat ='//*[@id=\"redlist-js\"]/div/div[3]/div/div[1]/div[3]/p[2]'\n",
    "                # xp_habitat ='//*[@id=\"redlist-js\"]/div/div[3]/div/div[1]/div[3]/p'\n",
    "                new_xp_habitat ='//*[@id=\"redlist-js\"]/div/div[3]/div/div[1]/div[3]/p'\n",
    "                xp_sci_n_year = '//*[@id=\"taxonomy-details\"]/div[1]/div[2]/p'\n",
    "                xp_conserv = '//*[@id=\"assessment-information\"]/div[2]/div/p[1]/a/strong'\n",
    "                xp_sci_name = '//*[@id=\"taxonomy-details\"]/div[1]/div[1]/p/span/em[1]'\n",
    "                # xp_sci_name = '//*[@id=\"taxonomy-details\"]/div[1]/div[1]/p/span/em'\n",
    "                new_xp_sci_name = '//*[@id=\"taxonomy-details\"]/div[1]/div[1]/p/span/em'\n",
    "                xp_order = '//*[@id=\"taxonomy\"]/div[2]/div[1]/p/a/strong'\n",
    "                xp_family = '//*[@id=\"taxonomy\"]/div[2]/div[2]/p/a/strong'\n",
    "                xp_genus = '//*[@id=\"taxonomy\"]/div[2]/div[3]/p/a/strong'\n",
    "                xp_other_c_names = '//*[@id=\"taxonomy-details\"]/div[2]/div[2]/div/p'\n",
    "                sci_name = driver.find_elements(by=By.XPATH, value=xp_sci_name)\n",
    "                d={'Name':[birdname],'IUCN_link':[driver.current_url]}\n",
    "                try:\n",
    "                    d['sci_name'] = [sci_name[0].text]\n",
    "                except Exception:\n",
    "                    new_xp_sci = '//*[@id=\"taxonomy-details\"]/div[1]/div[2]/p'\n",
    "                    try:\n",
    "                        d['sci_name'] = [driver.find_elements(by=By.XPATH, value=new_xp_sci)[0].text]\n",
    "                    except Exception:\n",
    "                        d['sci_name'] = np.nan\n",
    "                order = driver.find_elements(by=By.XPATH, value=xp_order)\n",
    "                try:\n",
    "                    d['order'] = [order[0].text]\n",
    "                except Exception:\n",
    "                    d['order']= np.nan\n",
    "                family = driver.find_elements(by=By.XPATH, value=xp_family)\n",
    "                try:\n",
    "                    d['family'] = [family[0].text]\n",
    "                except Exception:\n",
    "                    d['family']= np.nan\n",
    "                genus = driver.find_elements(by=By.XPATH, value=xp_genus)\n",
    "                try:\n",
    "                    d['genus'] = [genus[0].text]\n",
    "                except Exception:\n",
    "                    d['genus']= np.nan\n",
    "                sci_n_year = driver.find_elements(by=By.XPATH, value=xp_sci_n_year)\n",
    "                try:\n",
    "                    d['sci_n_year'] = [sci_n_year[0].text]\n",
    "                except Exception:\n",
    "                    d['sci_n_year']= np.nan\n",
    "                year = driver.find_elements(by=By.XPATH, value=xp_year)\n",
    "                try:\n",
    "                    d['year'] = [year[0].text]\n",
    "                except Exception:\n",
    "                    d['year']= np.nan\n",
    "                altitude = driver.find_elements(by=By.XPATH, value=xp_alt)\n",
    "                try:\n",
    "                    d['altitude'] = [altitude[0].text]\n",
    "                except Exception:\n",
    "                    d['altitude']= np.nan\n",
    "                populate = driver.find_elements(by=By.XPATH, value=xp_populate)\n",
    "                try:\n",
    "                    d['populate'] = [populate[0].text]\n",
    "                except Exception:\n",
    "                    d['populate']= np.nan\n",
    "                habitat = driver.find_elements(by=By.XPATH, value=xp_habitat)\n",
    "                try:\n",
    "                    d['habitat'] =[habitat[0].text]\n",
    "                except Exception:\n",
    "                    d['habitat']= np.nan\n",
    "                conservation =  driver.find_elements(by=By.XPATH, value=xp_conserv)\n",
    "                try:\n",
    "                    d['conservation'] = [conservation[0].text]\n",
    "                except Exception:\n",
    "                    d['conservation']= np.nan\n",
    "                other_names = driver.find_elements(by=By.XPATH, value=xp_other_c_names)\n",
    "                try:\n",
    "                    d['other_names'] = [other_names[0].text]\n",
    "                except Exception:\n",
    "                    d['other_names'] = np.nan\n",
    "                # print(d)\n",
    "                idf = pd.DataFrame(d)\n",
    "                return idf\n",
    "            except Exception:\n",
    "                fail.append(birdname)\n",
    "                return pd.DataFrame(d)\n",
    "                \n",
    "def iucn(fro,to,driver,data_df,list_of_birds):\n",
    "    for bird_name in list_of_birds[fro:to]:\n",
    "        # data_df = scrape_a_bird('Greater Rhea')\n",
    "        # try:\n",
    "        data_df = pd.concat([data_df,scrape_a_bird(bird_name,driver)] )\n",
    "        logging.debug('[+] '+ bird_name)\n",
    "        print('[+] '+ bird_name)\n",
    "        # except Exception:\n",
    "        logging.error('Unknown Exceptions for Bird-' + bird_name)\n",
    "    return data_df\n",
    "\n",
    "# if __name__ == '__main__':\n",
    "startTime = datetime.now()\n",
    "birds = pd.DataFrame(columns=['Name','sci_name','order','family','genus','sci_n_year','year','altitude','populate','habitat','conservation','other_names','IUCN_link'])\n",
    "# driver = webdriver.Chrome('./chromedriver.exe')\n",
    "dz = pd.read_excel(\"assets/DataZone/HBW-BirdLife_List_of_Birds_v6.xlsx\")\n",
    "list_of_birds = list(dz.loc[:,'Common name'])\n",
    "# f = int(input('from :'))\n",
    "# t = int(input('to :'))\n",
    "f = 8888\n",
    "t = 8891\n",
    "ds = 'iucn_'+str(f)+'_'+str(t)\n",
    "logging.basicConfig(filename=\"assets/rescrape_iucn/Log_\"+ds+\".log\",format='%(asctime)s - %(levelname)s - %(message)s',filemode='a')\n",
    "birds = iucn(f,t,driver,birds,list_of_birds)\n",
    "birds.to_pickle(\"assets/rescrape_iucn/Pick_\"+ds+\".pkl\")\n",
    "birds.to_csv(\"assets/rescrape_iucn/csv_\"+ds+\".csv\")\n",
    "logging.info('\\n\\nTime taken : ',datetime.now() - startTime)\n",
    "print('falied birds : ',fail)\n",
    "print('\\n\\nTime taken : ',datetime.now() - startTime) \n",
    "\n",
    "driver.quit()    \n",
    "'''\n",
    "conda activate indicwiki & cd Documents\\birds & python Eol_Scraper_Optim.py\n",
    "<f>\n",
    "<t>\n",
    "'''"
   ]
  },
  {
   "cell_type": "code",
   "execution_count": 19,
   "metadata": {},
   "outputs": [
    {
     "data": {
      "text/html": [
       "<div>\n",
       "<style scoped>\n",
       "    .dataframe tbody tr th:only-of-type {\n",
       "        vertical-align: middle;\n",
       "    }\n",
       "\n",
       "    .dataframe tbody tr th {\n",
       "        vertical-align: top;\n",
       "    }\n",
       "\n",
       "    .dataframe thead th {\n",
       "        text-align: right;\n",
       "    }\n",
       "</style>\n",
       "<table border=\"1\" class=\"dataframe\">\n",
       "  <thead>\n",
       "    <tr style=\"text-align: right;\">\n",
       "      <th></th>\n",
       "      <th>Name</th>\n",
       "      <th>sci_name</th>\n",
       "      <th>order</th>\n",
       "      <th>family</th>\n",
       "      <th>genus</th>\n",
       "      <th>sci_n_year</th>\n",
       "      <th>year</th>\n",
       "      <th>altitude</th>\n",
       "      <th>populate</th>\n",
       "      <th>habitat</th>\n",
       "      <th>conservation</th>\n",
       "      <th>other_names</th>\n",
       "      <th>IUCN_link</th>\n",
       "    </tr>\n",
       "  </thead>\n",
       "  <tbody>\n",
       "    <tr>\n",
       "      <th>0</th>\n",
       "      <td>New Britain Thrush</td>\n",
       "      <td>Zoothera talaseae</td>\n",
       "      <td>passeriformes</td>\n",
       "      <td>turdidae</td>\n",
       "      <td>zoothera</td>\n",
       "      <td>(Rothschild &amp; Hartert, 1926)</td>\n",
       "      <td>3 years</td>\n",
       "      <td>2,200 metres</td>\n",
       "      <td>Stable</td>\n",
       "      <td>Forest</td>\n",
       "      <td>Least Concern</td>\n",
       "      <td>New Britain Thrush</td>\n",
       "      <td>https://www.iucnredlist.org/species/103879758/...</td>\n",
       "    </tr>\n",
       "    <tr>\n",
       "      <th>0</th>\n",
       "      <td>Bougainville Thrush</td>\n",
       "      <td>Zoothera atrigena</td>\n",
       "      <td>passeriformes</td>\n",
       "      <td>turdidae</td>\n",
       "      <td>zoothera</td>\n",
       "      <td>Ripley &amp; Hadden, 1982</td>\n",
       "      <td>3 years</td>\n",
       "      <td>1,500 metres</td>\n",
       "      <td>Decreasing</td>\n",
       "      <td>Forest</td>\n",
       "      <td>Near Threatened</td>\n",
       "      <td>Bougainville Thrush</td>\n",
       "      <td>https://www.iucnredlist.org/species/103879831/...</td>\n",
       "    </tr>\n",
       "    <tr>\n",
       "      <th>0</th>\n",
       "      <td>Bonin Thrush</td>\n",
       "      <td>Zoothera terrestris</td>\n",
       "      <td>passeriformes</td>\n",
       "      <td>turdidae</td>\n",
       "      <td>zoothera</td>\n",
       "      <td>(Kittlitz, 1831)</td>\n",
       "      <td>3 years</td>\n",
       "      <td></td>\n",
       "      <td>Unspecified</td>\n",
       "      <td>Forest</td>\n",
       "      <td>Extinct</td>\n",
       "      <td>Bonin Thrush</td>\n",
       "      <td>https://www.iucnredlist.org/species/22708535/9...</td>\n",
       "    </tr>\n",
       "  </tbody>\n",
       "</table>\n",
       "</div>"
      ],
      "text/plain": [
       "                  Name             sci_name          order    family  \\\n",
       "0   New Britain Thrush    Zoothera talaseae  passeriformes  turdidae   \n",
       "0  Bougainville Thrush    Zoothera atrigena  passeriformes  turdidae   \n",
       "0         Bonin Thrush  Zoothera terrestris  passeriformes  turdidae   \n",
       "\n",
       "      genus                    sci_n_year     year      altitude     populate  \\\n",
       "0  zoothera  (Rothschild & Hartert, 1926)  3 years  2,200 metres       Stable   \n",
       "0  zoothera         Ripley & Hadden, 1982  3 years  1,500 metres   Decreasing   \n",
       "0  zoothera              (Kittlitz, 1831)  3 years                Unspecified   \n",
       "\n",
       "  habitat     conservation          other_names  \\\n",
       "0  Forest    Least Concern   New Britain Thrush   \n",
       "0  Forest  Near Threatened  Bougainville Thrush   \n",
       "0  Forest          Extinct         Bonin Thrush   \n",
       "\n",
       "                                           IUCN_link  \n",
       "0  https://www.iucnredlist.org/species/103879758/...  \n",
       "0  https://www.iucnredlist.org/species/103879831/...  \n",
       "0  https://www.iucnredlist.org/species/22708535/9...  "
      ]
     },
     "execution_count": 19,
     "metadata": {},
     "output_type": "execute_result"
    }
   ],
   "source": [
    "birds"
   ]
  },
  {
   "cell_type": "code",
   "execution_count": null,
   "metadata": {},
   "outputs": [],
   "source": [
    "scrape_a_bird(\"Bulwer's Pheasant\")"
   ]
  },
  {
   "cell_type": "code",
   "execution_count": 3,
   "metadata": {},
   "outputs": [
    {
     "name": "stderr",
     "output_type": "stream",
     "text": [
      "C:\\Users\\LEGION\\AppData\\Local\\Temp\\ipykernel_33552\\2519493723.py:19: DeprecationWarning: executable_path has been deprecated, please pass in a Service object\n",
      "  driver = webdriver.Chrome(path,options=options);\n"
     ]
    },
    {
     "ename": "Error",
     "evalue": "Canceled future for execute_request message before replies were done",
     "output_type": "error",
     "traceback": [
      "Error: Canceled future for execute_request message before replies were done",
      "at t.KernelShellFutureHandler.dispose (c:\\Users\\LEGION\\.vscode\\extensions\\ms-toolsai.jupyter-2022.3.1000901801\\out\\extension.js:2:1204175)",
      "at c:\\Users\\LEGION\\.vscode\\extensions\\ms-toolsai.jupyter-2022.3.1000901801\\out\\extension.js:2:1223227",
      "at Map.forEach (<anonymous>)",
      "at v._clearKernelState (c:\\Users\\LEGION\\.vscode\\extensions\\ms-toolsai.jupyter-2022.3.1000901801\\out\\extension.js:2:1223212)",
      "at v.dispose (c:\\Users\\LEGION\\.vscode\\extensions\\ms-toolsai.jupyter-2022.3.1000901801\\out\\extension.js:2:1216694)",
      "at c:\\Users\\LEGION\\.vscode\\extensions\\ms-toolsai.jupyter-2022.3.1000901801\\out\\extension.js:2:533674",
      "at t.swallowExceptions (c:\\Users\\LEGION\\.vscode\\extensions\\ms-toolsai.jupyter-2022.3.1000901801\\out\\extension.js:2:913059)",
      "at dispose (c:\\Users\\LEGION\\.vscode\\extensions\\ms-toolsai.jupyter-2022.3.1000901801\\out\\extension.js:2:533652)",
      "at t.RawSession.dispose (c:\\Users\\LEGION\\.vscode\\extensions\\ms-toolsai.jupyter-2022.3.1000901801\\out\\extension.js:2:537330)",
      "at processTicksAndRejections (node:internal/process/task_queues:96:5)"
     ]
    }
   ],
   "source": [
    "from tqdm import tqdm\n",
    "from tkinter import N\n",
    "from selenium import webdriver\n",
    "from selenium.webdriver.common.keys import Keys\n",
    "from selenium.webdriver.support import expected_conditions as EC\n",
    "from selenium.webdriver.common.by import By\n",
    "from selenium.webdriver.support.wait import WebDriverWait\n",
    "from time import sleep\n",
    "from os import rename\n",
    "import pandas as pd\n",
    "import pandas as pd\n",
    "dz = pd.read_excel(\"assets/DataZone/HBW-BirdLife_List_of_Birds_v6.xlsx\")\n",
    "dz.head(5)\n",
    "list_of_birds = list(dz.loc[:,'Common name'])\n",
    "options = webdriver.ChromeOptions()\n",
    "prefs = {\"download.default_directory\" : \"C:\\\\Users\\\\LEGION\\\\Documents\\\\birds\\\\assets\\\\AviBase\"}\n",
    "options.add_experimental_option(\"prefs\",prefs);\n",
    "path = './chromedriver'\n",
    "driver = webdriver.Chrome(path,options=options);\n",
    "fail = []\n",
    "csvList = pd.DataFrame(columns=['Bird Name','Data set name'])\n",
    "for birdname in list_of_birds[7500:]:\n",
    "    try:\n",
    "        driver.get('https://avibase.bsc-eoc.org/search.jsp?lang=EN&isadv=yes')\n",
    "        input_avibase = WebDriverWait(driver,10).until(EC.element_to_be_clickable((By.CSS_SELECTOR,\"input[placeholder='Enter a species name']\")))\n",
    "        input_avibase.send_keys(birdname)\n",
    "        input_avibase.send_keys(Keys.ENTER)\n",
    "        sleep(0.5)\n",
    "        driver.find_elements(by=By.XPATH, value='//*[@id=\"avbform\"]/table/tbody/tr[2]/td[3]/a')[0].click()\n",
    "        sleep(0.5)\n",
    "        link = driver.find_elements(by=By.XPATH, value='/html/body/div[1]/div[4]/div/div/div[1]/ul/li[5]/a')[0].click()\n",
    "        driver.find_element(by=By.LINK_TEXT, value=\"CSV\").click()\n",
    "        sleep(1)\n",
    "        birddatafilename = f\"{'-'.join(birdname.split(' '))}-lifehistory.csv\"\n",
    "        rename(\"C:\\\\Users\\\\LEGION\\\\Documents\\\\birds\\\\assets\\\\AviBase\\\\lifehistory.csv\",f\"C:\\\\Users\\\\LEGION\\\\Documents\\\\birds\\\\assets\\\\AviBase\\\\{birddatafilename}\")\n",
    "        # bird_data_csvs[birdname] = [birddatafilename]\n",
    "        d = {'Bird Name':[birdname],'Data set name':[birddatafilename]}\n",
    "        csvList = pd.concat([csvList,pd.DataFrame(d)])\n",
    "        # print('+',list_of_birds.index(birdname),birdname)\n",
    "    except Exception:\n",
    "        fail.append(birdname)\n",
    "print(fail)\n",
    "driver.close()\n",
    "pd.DataFrame(fail).to_pickle('C:\\\\Users\\\\LEGION\\\\Documents\\\\birds\\\\assets\\\\AviBase\\\\AviBase-Scrape-Report-7500-fail.pkl')\n",
    "# pd.read_pickle('C:\\\\Users\\\\LEGION\\\\Documents\\\\birds\\\\assets\\\\AviBase\\\\AviBase-Scrape-Report-fail.pkl')\n",
    "pd.DataFrame.from_dict(csvList).to_pickle('C:\\\\Users\\\\LEGION\\\\Documents\\\\birds\\\\assets\\\\AviBase\\\\AviBase-Scrape-Report-7500-end.pkl')\n",
    "list_of_csvs = pd.read_pickle('C:\\\\Users\\\\LEGION\\\\Documents\\\\birds\\\\assets\\\\AviBase\\\\AviBase-Scrape-Report-7500-end.pkl')\n",
    "list_of_csvs.tail(5)"
   ]
  },
  {
   "cell_type": "code",
   "execution_count": null,
   "metadata": {},
   "outputs": [],
   "source": []
  }
 ],
 "metadata": {
  "kernelspec": {
   "display_name": "AkWiki",
   "language": "python",
   "name": "indicwiki"
  },
  "language_info": {
   "codemirror_mode": {
    "name": "ipython",
    "version": 3
   },
   "file_extension": ".py",
   "mimetype": "text/x-python",
   "name": "python",
   "nbconvert_exporter": "python",
   "pygments_lexer": "ipython3",
   "version": "3.9.12"
  },
  "orig_nbformat": 4
 },
 "nbformat": 4,
 "nbformat_minor": 2
}
