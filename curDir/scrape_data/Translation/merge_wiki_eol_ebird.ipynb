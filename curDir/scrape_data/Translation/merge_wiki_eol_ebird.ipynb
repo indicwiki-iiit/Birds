{
 "cells": [
  {
   "cell_type": "code",
   "execution_count": null,
   "metadata": {},
   "outputs": [],
   "source": [
    "import pandas as pd"
   ]
  },
  {
   "cell_type": "code",
   "execution_count": null,
   "metadata": {},
   "outputs": [],
   "source": [
    "ebird = pd.read_pickle('../assets/rescrape/ebird_data.pkl')\n",
    "ebird.head(2)"
   ]
  },
  {
   "cell_type": "code",
   "execution_count": null,
   "metadata": {},
   "outputs": [],
   "source": [
    "eol = pd.read_pickle('../assets/rescrape_eol/eol_data.pkl')\n",
    "eol.head(2)"
   ]
  },
  {
   "cell_type": "code",
   "execution_count": null,
   "metadata": {},
   "outputs": [],
   "source": [
    "wiki = pd.read_pickle('../assets/rescrape_wiki/wiki_data.pkl')\n",
    "wiki.head(2)"
   ]
  },
  {
   "cell_type": "code",
   "execution_count": null,
   "metadata": {},
   "outputs": [],
   "source": [
    "eol_total = eol.shape[0]\n",
    "eol_d = {}\n",
    "for i in eol.columns:\n",
    "    eol_d[i] = eol_total- eol[i].isnull().sum()\n",
    "eol_d = sorted(eol_d.items(), key=lambda x:x[1],reverse=True)\n",
    "eol_df = pd.DataFrame(eol_d,columns=['Attribute','Occur'])\n",
    "eol_df.head(4)"
   ]
  },
  {
   "cell_type": "code",
   "execution_count": null,
   "metadata": {},
   "outputs": [],
   "source": [
    "eol_df['Perc'] = (eol_df['Occur']/eol_total)*100  "
   ]
  },
  {
   "cell_type": "code",
   "execution_count": null,
   "metadata": {},
   "outputs": [],
   "source": [
    "eol_df.to_csv('../assets/rescrape_eol/eol_col.csv')"
   ]
  },
  {
   "cell_type": "code",
   "execution_count": null,
   "metadata": {},
   "outputs": [],
   "source": [
    "wiki.columns"
   ]
  },
  {
   "cell_type": "code",
   "execution_count": null,
   "metadata": {},
   "outputs": [],
   "source": [
    "\n",
    "sub_list = [\"Conservation\", \"status\", \"Scientific\", \"classification\"]\n",
    "wiki.rename(columns={\"Common Name\":\"Name\"},inplace=True)\n"
   ]
  },
  {
   "cell_type": "code",
   "execution_count": null,
   "metadata": {},
   "outputs": [],
   "source": [
    "wiki.reset_index(inplace=True)\n",
    "import string"
   ]
  },
  {
   "cell_type": "code",
   "execution_count": null,
   "metadata": {},
   "outputs": [],
   "source": [
    "for i in range(6866, len(wiki)):\n",
    "    for sub in sub_list:\n",
    "        wiki.Name[i] = str(wiki.Name[i]).replace(sub, ' ')\n",
    "    wiki.Name[i] = wiki.Name[i].translate(str.maketrans('', '',string.punctuation))\n",
    "    wiki.Name[i] = wiki.Name[i].strip()\n",
    "    print(wiki.Name[i])\n"
   ]
  },
  {
   "cell_type": "code",
   "execution_count": null,
   "metadata": {},
   "outputs": [],
   "source": [
    "wiki.drop('index',axis=1,inplace=True)\n"
   ]
  },
  {
   "cell_type": "code",
   "execution_count": null,
   "metadata": {},
   "outputs": [],
   "source": [
    "wiki.drop('level_0',axis=1,inplace=True)\n",
    "wiki.rename(columns={\"Name\":\"Common Name\",},inplace=True)"
   ]
  },
  {
   "cell_type": "code",
   "execution_count": null,
   "metadata": {},
   "outputs": [],
   "source": [
    "wiki.tail(5)"
   ]
  },
  {
   "cell_type": "code",
   "execution_count": null,
   "metadata": {},
   "outputs": [],
   "source": [
    "wiki.to_pickle('../assets/rescrape_wiki/wiki_data_v2.pkl')\n",
    "wiki.to_csv('../assets/rescrape_wiki/wiki_data_v2.csv')"
   ]
  },
  {
   "cell_type": "code",
   "execution_count": null,
   "metadata": {},
   "outputs": [],
   "source": [
    "wiki_total = wiki.shape[0]\n",
    "wiki_d = {}\n",
    "for i in wiki.columns:\n",
    "    wiki_d[i] = wiki_total- wiki[i].isnull().sum()\n",
    "wiki_d = sorted(wiki_d.items(), key=lambda x:x[1],reverse=True)\n",
    "wiki_df = pd.DataFrame(wiki_d,columns=['Attribute','Occur'])\n",
    "wiki_df.head(4)"
   ]
  },
  {
   "cell_type": "code",
   "execution_count": null,
   "metadata": {},
   "outputs": [],
   "source": [
    "wiki_df['Perc'] = (wiki_df['Occur']/wiki_total)*100  \n",
    "wiki_df.to_csv('../assets/rescrape_wiki/wiki_col.csv')"
   ]
  },
  {
   "cell_type": "code",
   "execution_count": null,
   "metadata": {},
   "outputs": [],
   "source": [
    "ebird_total = ebird.shape[0]\n",
    "ebird_d = {}\n",
    "for i in ebird.columns:\n",
    "    ebird_d[i] = ebird_total- ebird[i].isnull().sum()\n",
    "ebird_d = sorted(ebird_d.items(), key=lambda x:x[1],reverse=True)\n",
    "ebird_df = pd.DataFrame(ebird_d,columns=['Attribute','Occur'])\n",
    "ebird_df['Perc'] = (ebird_df['Occur']/ebird_total)*100  \n",
    "ebird_df.to_csv('../assets/rescrape/ebird_col.csv')"
   ]
  },
  {
   "cell_type": "code",
   "execution_count": null,
   "metadata": {},
   "outputs": [],
   "source": [
    "bird_df = pd.concat([eol_df,ebird_df,wiki_df])"
   ]
  },
  {
   "cell_type": "code",
   "execution_count": null,
   "metadata": {},
   "outputs": [],
   "source": [
    "bird_df.shape"
   ]
  },
  {
   "cell_type": "code",
   "execution_count": null,
   "metadata": {},
   "outputs": [],
   "source": [
    "bird_df['BenchMark'] = (bird_df['Occur']/11125)*100  \n",
    "bird_df = bird_df.drop('Occur',axis=1)\n",
    "bird_df.head(4)\n"
   ]
  },
  {
   "cell_type": "code",
   "execution_count": null,
   "metadata": {},
   "outputs": [],
   "source": []
  },
  {
   "cell_type": "code",
   "execution_count": null,
   "metadata": {},
   "outputs": [],
   "source": [
    "new_bird_df = bird_df.drop_duplicates(subset=['Attribute'])\n",
    "bird_df.sort_values(by=['Attribute'], inplace=True)\n",
    "bird_df.sort_values(by=['Perc'], inplace=True,ascending=False)\n",
    "bird_df.sort_values(by=['BenchMark'], inplace=True,ascending=False)\n"
   ]
  },
  {
   "cell_type": "code",
   "execution_count": null,
   "metadata": {},
   "outputs": [],
   "source": [
    "new_bird_df.to_csv('../assets/attributes_all_percentages.csv')\n"
   ]
  },
  {
   "cell_type": "code",
   "execution_count": null,
   "metadata": {},
   "outputs": [],
   "source": [
    "new_bird_df.columns"
   ]
  },
  {
   "cell_type": "code",
   "execution_count": null,
   "metadata": {},
   "outputs": [],
   "source": []
  },
  {
   "cell_type": "code",
   "execution_count": null,
   "metadata": {},
   "outputs": [],
   "source": []
  }
 ],
 "metadata": {
  "kernelspec": {
   "display_name": "TeWiki",
   "language": "python",
   "name": "indicwiki"
  },
  "language_info": {
   "codemirror_mode": {
    "name": "ipython",
    "version": 3
   },
   "file_extension": ".py",
   "mimetype": "text/x-python",
   "name": "python",
   "nbconvert_exporter": "python",
   "pygments_lexer": "ipython3",
   "version": "3.9.7"
  },
  "orig_nbformat": 4
 },
 "nbformat": 4,
 "nbformat_minor": 2
}
