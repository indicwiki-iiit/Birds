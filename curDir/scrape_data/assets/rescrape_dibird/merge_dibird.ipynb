{
 "cells": [
  {
   "cell_type": "code",
   "execution_count": 1,
   "metadata": {},
   "outputs": [],
   "source": [
    "import pandas as pd"
   ]
  },
  {
   "cell_type": "code",
   "execution_count": 2,
   "metadata": {},
   "outputs": [
    {
     "data": {
      "text/plain": [
       "(10772, 11)"
      ]
     },
     "execution_count": 2,
     "metadata": {},
     "output_type": "execute_result"
    }
   ],
   "source": [
    "dibird_data_sets = [\n",
    "    pd.read_pickle('Pick_dibird_1_1250.pkl'),\n",
    "    pd.read_pickle('Pick_dibird_1250_2500.pkl'),\n",
    "    pd.read_pickle('Pick_dibird_2500_3750.pkl'),\n",
    "    pd.read_pickle('Pick_dibird_3750_5000.pkl'),\n",
    "    pd.read_pickle('Pick_dibird_5000_6250.pkl'),\n",
    "    pd.read_pickle('Pick_dibird_6250_7500.pkl'),\n",
    "    pd.read_pickle('Pick_dibird_7500_8750.pkl'),\n",
    "    pd.read_pickle('Pick_dibird_8750_10000.pkl'),\n",
    "    pd.read_pickle('Pick_dibird_10000_11125.pkl')\n",
    "    ]\n",
    "\n",
    "dibird_dataset = pd.concat(dibird_data_sets,sort=False)\n",
    "dibird_dataset.shape"
   ]
  },
  {
   "cell_type": "code",
   "execution_count": 3,
   "metadata": {},
   "outputs": [
    {
     "data": {
      "text/html": [
       "<div>\n",
       "<style scoped>\n",
       "    .dataframe tbody tr th:only-of-type {\n",
       "        vertical-align: middle;\n",
       "    }\n",
       "\n",
       "    .dataframe tbody tr th {\n",
       "        vertical-align: top;\n",
       "    }\n",
       "\n",
       "    .dataframe thead th {\n",
       "        text-align: right;\n",
       "    }\n",
       "</style>\n",
       "<table border=\"1\" class=\"dataframe\">\n",
       "  <thead>\n",
       "    <tr style=\"text-align: right;\">\n",
       "      <th></th>\n",
       "      <th>Common Name</th>\n",
       "      <th>Conservation status</th>\n",
       "      <th>Synonyms</th>\n",
       "      <th>Old latin name for bird</th>\n",
       "      <th>Order</th>\n",
       "      <th>Family</th>\n",
       "      <th>Genus</th>\n",
       "      <th>Breeding region</th>\n",
       "      <th>Breeding subregion</th>\n",
       "      <th>Link</th>\n",
       "      <th>Non breeding region</th>\n",
       "    </tr>\n",
       "  </thead>\n",
       "  <tbody>\n",
       "    <tr>\n",
       "      <th>0</th>\n",
       "      <td>abbotts-booby</td>\n",
       "      <td>EN - Endangered</td>\n",
       "      <td>Abbot's Booby, Spotted-backed Booby</td>\n",
       "      <td>Sula abbotti</td>\n",
       "      <td>Gannets and relatives / Suliformes</td>\n",
       "      <td>Gannets, Boobies / Sulidae</td>\n",
       "      <td>Papasula</td>\n",
       "      <td>Indian ocean</td>\n",
       "      <td>ne</td>\n",
       "      <td>https://dibird.com/species/abbotts-booby/</td>\n",
       "      <td>-</td>\n",
       "    </tr>\n",
       "    <tr>\n",
       "      <th>0</th>\n",
       "      <td>abbotts-starling</td>\n",
       "      <td>VU - Vulnerable</td>\n",
       "      <td>NaN</td>\n",
       "      <td>Pholia femoralis, Pholidauges femoralis, Cinny...</td>\n",
       "      <td>Perching Birds / Passeriformes</td>\n",
       "      <td>Starlings, Rhabdornis / Sturnidae</td>\n",
       "      <td>Poeoptera</td>\n",
       "      <td>Africa</td>\n",
       "      <td>Kenya and Tanzania</td>\n",
       "      <td>https://dibird.com/species/abbotts-starling/</td>\n",
       "      <td>-</td>\n",
       "    </tr>\n",
       "    <tr>\n",
       "      <th>0</th>\n",
       "      <td>abbotts-sunbird</td>\n",
       "      <td>NE - Not evaluated</td>\n",
       "      <td>Souimanga Sunbird (Abbott's)</td>\n",
       "      <td>NaN</td>\n",
       "      <td>Perching Birds / Passeriformes</td>\n",
       "      <td>Sunbirds / Nectariniidae</td>\n",
       "      <td>Cinnyris</td>\n",
       "      <td>Africa</td>\n",
       "      <td>Aldabra Island</td>\n",
       "      <td>https://dibird.com/species/abbotts-sunbird/</td>\n",
       "      <td>-</td>\n",
       "    </tr>\n",
       "    <tr>\n",
       "      <th>0</th>\n",
       "      <td>abd-alkuri-sparrow</td>\n",
       "      <td>VU - Vulnerable</td>\n",
       "      <td>Abd 'Al Kuri Sparrow, Abd al Kuri Sparrow, Abd...</td>\n",
       "      <td>NaN</td>\n",
       "      <td>Perching Birds / Passeriformes</td>\n",
       "      <td>Old World Sparrows, Snowfinches / Passeridae</td>\n",
       "      <td>Passer</td>\n",
       "      <td>Africa</td>\n",
       "      <td>Abd al-Kuri I., w of Socotra</td>\n",
       "      <td>https://dibird.com/species/abd-alkuri-sparrow/</td>\n",
       "      <td>-</td>\n",
       "    </tr>\n",
       "    <tr>\n",
       "      <th>0</th>\n",
       "      <td>abdims-stork</td>\n",
       "      <td>LC - Least concern</td>\n",
       "      <td>White-bellied Stork, White-billed Stork</td>\n",
       "      <td>Sphenorrhynchus abdimii, Sphenorhynchus abdimii</td>\n",
       "      <td>Herons, Storks and relatives / Ciconiiformes</td>\n",
       "      <td>Storks / Ciconiidae</td>\n",
       "      <td>Ciconia</td>\n",
       "      <td>Africa</td>\n",
       "      <td>Senegal to Ethiopia</td>\n",
       "      <td>https://dibird.com/species/abdims-stork/</td>\n",
       "      <td>e, s Africa</td>\n",
       "    </tr>\n",
       "  </tbody>\n",
       "</table>\n",
       "</div>"
      ],
      "text/plain": [
       "          Common Name Conservation status  \\\n",
       "0       abbotts-booby     EN - Endangered   \n",
       "0    abbotts-starling     VU - Vulnerable   \n",
       "0     abbotts-sunbird  NE - Not evaluated   \n",
       "0  abd-alkuri-sparrow     VU - Vulnerable   \n",
       "0        abdims-stork  LC - Least concern   \n",
       "\n",
       "                                            Synonyms  \\\n",
       "0                Abbot's Booby, Spotted-backed Booby   \n",
       "0                                                NaN   \n",
       "0                       Souimanga Sunbird (Abbott's)   \n",
       "0  Abd 'Al Kuri Sparrow, Abd al Kuri Sparrow, Abd...   \n",
       "0            White-bellied Stork, White-billed Stork   \n",
       "\n",
       "                             Old latin name for bird  \\\n",
       "0                                       Sula abbotti   \n",
       "0  Pholia femoralis, Pholidauges femoralis, Cinny...   \n",
       "0                                                NaN   \n",
       "0                                                NaN   \n",
       "0    Sphenorrhynchus abdimii, Sphenorhynchus abdimii   \n",
       "\n",
       "                                          Order  \\\n",
       "0            Gannets and relatives / Suliformes   \n",
       "0                Perching Birds / Passeriformes   \n",
       "0                Perching Birds / Passeriformes   \n",
       "0                Perching Birds / Passeriformes   \n",
       "0  Herons, Storks and relatives / Ciconiiformes   \n",
       "\n",
       "                                         Family      Genus Breeding region  \\\n",
       "0                    Gannets, Boobies / Sulidae   Papasula    Indian ocean   \n",
       "0             Starlings, Rhabdornis / Sturnidae  Poeoptera          Africa   \n",
       "0                      Sunbirds / Nectariniidae   Cinnyris          Africa   \n",
       "0  Old World Sparrows, Snowfinches / Passeridae     Passer          Africa   \n",
       "0                           Storks / Ciconiidae    Ciconia          Africa   \n",
       "\n",
       "             Breeding subregion  \\\n",
       "0                            ne   \n",
       "0            Kenya and Tanzania   \n",
       "0                Aldabra Island   \n",
       "0  Abd al-Kuri I., w of Socotra   \n",
       "0           Senegal to Ethiopia   \n",
       "\n",
       "                                             Link Non breeding region  \n",
       "0       https://dibird.com/species/abbotts-booby/                   -  \n",
       "0    https://dibird.com/species/abbotts-starling/                   -  \n",
       "0     https://dibird.com/species/abbotts-sunbird/                   -  \n",
       "0  https://dibird.com/species/abd-alkuri-sparrow/                   -  \n",
       "0        https://dibird.com/species/abdims-stork/         e, s Africa  "
      ]
     },
     "execution_count": 3,
     "metadata": {},
     "output_type": "execute_result"
    }
   ],
   "source": [
    "dibird_dataset.head(5)"
   ]
  },
  {
   "cell_type": "code",
   "execution_count": 4,
   "metadata": {},
   "outputs": [],
   "source": [
    "def count_col(wiki):\n",
    "    wiki_total = wiki.shape[0]\n",
    "    wiki_d = {}\n",
    "    for i in wiki.columns:\n",
    "        wiki_d[i] = wiki_total- wiki[i].isnull().sum()\n",
    "    wiki_d = sorted(wiki_d.items(), key=lambda x:x[1],reverse=True)\n",
    "    wiki_df = pd.DataFrame(wiki_d,columns=['Attribute','Occur'])\n",
    "    wiki_df['Perc'] = (wiki_df['Occur']/wiki_total)*100  \n",
    "    return wiki_df"
   ]
  },
  {
   "cell_type": "code",
   "execution_count": 6,
   "metadata": {},
   "outputs": [],
   "source": [
    "count_col(dibird_dataset).to_csv('dibird_data_col_count.csv')"
   ]
  },
  {
   "cell_type": "code",
   "execution_count": null,
   "metadata": {},
   "outputs": [],
   "source": [
    "dibird_dataset.to_csv('dibird_data.csv')\n",
    "dibird_dataset.to_pickle('dibird_data.pkl')\n",
    "dibird_dataset.to_excel('Merged_Dibird.xlsx')"
   ]
  },
  {
   "cell_type": "code",
   "execution_count": null,
   "metadata": {},
   "outputs": [],
   "source": []
  }
 ],
 "metadata": {
  "kernelspec": {
   "display_name": "AkWiki",
   "language": "python",
   "name": "indicwiki"
  },
  "language_info": {
   "codemirror_mode": {
    "name": "ipython",
    "version": 3
   },
   "file_extension": ".py",
   "mimetype": "text/x-python",
   "name": "python",
   "nbconvert_exporter": "python",
   "pygments_lexer": "ipython3",
   "version": "3.9.12"
  },
  "orig_nbformat": 4
 },
 "nbformat": 4,
 "nbformat_minor": 2
}
