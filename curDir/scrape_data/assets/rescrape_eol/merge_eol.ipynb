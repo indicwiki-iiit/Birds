{
 "cells": [
  {
   "cell_type": "code",
   "execution_count": 3,
   "metadata": {},
   "outputs": [],
   "source": [
    "import pandas as pd"
   ]
  },
  {
   "cell_type": "code",
   "execution_count": 4,
   "metadata": {},
   "outputs": [
    {
     "data": {
      "text/plain": [
       "(6570, 113)"
      ]
     },
     "execution_count": 4,
     "metadata": {},
     "output_type": "execute_result"
    }
   ],
   "source": [
    "eol_data_sets = [\n",
    "    pd.read_pickle('Pick_eol_1_1000.pkl'),\n",
    "    pd.read_pickle('Pick_eol_1000_2000.pkl'),\n",
    "    pd.read_pickle('Pick_eol_2000_3000.pkl'),\n",
    "    pd.read_pickle('Pick_eol_3000_4000.pkl'),\n",
    "    pd.read_pickle('Pick_eol_4000_5000.pkl'),\n",
    "    pd.read_pickle('Pick_eol_5000_6000.pkl'),\n",
    "    pd.read_pickle('Pick_eol_6000_7000.pkl'),\n",
    "    pd.read_pickle('Pick_eol_7000_8000.pkl'),\n",
    "    pd.read_pickle('Pick_eol_8000_9000.pkl'),\n",
    "    pd.read_pickle('Pick_eol_9000_10000.pkl'),\n",
    "    pd.read_pickle('Pick_eol_10000_11125.pkl')\n",
    "    ]\n",
    "\n",
    "eol_dataset = pd.concat(eol_data_sets,sort=False)\n",
    "eol_dataset.shape"
   ]
  },
  {
   "cell_type": "code",
   "execution_count": 5,
   "metadata": {},
   "outputs": [],
   "source": [
    "eol_dataset.to_csv('eol_data.csv')\n",
    "eol_dataset.to_pickle('eol_data.pkl')\n",
    "eol_dataset.to_excel('Merged_Eol.xlsx')"
   ]
  },
  {
   "cell_type": "code",
   "execution_count": null,
   "metadata": {},
   "outputs": [],
   "source": []
  }
 ],
 "metadata": {
  "kernelspec": {
   "display_name": "TeWiki",
   "language": "python",
   "name": "indicwiki"
  },
  "language_info": {
   "codemirror_mode": {
    "name": "ipython",
    "version": 3
   },
   "file_extension": ".py",
   "mimetype": "text/x-python",
   "name": "python",
   "nbconvert_exporter": "python",
   "pygments_lexer": "ipython3",
   "version": "3.9.7"
  },
  "orig_nbformat": 4
 },
 "nbformat": 4,
 "nbformat_minor": 2
}
