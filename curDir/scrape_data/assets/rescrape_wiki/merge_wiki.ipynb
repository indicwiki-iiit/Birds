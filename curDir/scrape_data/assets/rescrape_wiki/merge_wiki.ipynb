{
 "cells": [
  {
   "cell_type": "code",
   "execution_count": 2,
   "metadata": {},
   "outputs": [],
   "source": [
    "import pandas as pd"
   ]
  },
  {
   "cell_type": "code",
   "execution_count": 8,
   "metadata": {},
   "outputs": [
    {
     "name": "stdout",
     "output_type": "stream",
     "text": [
      "Index(['Common Name', 'Conservation status', 'Kingdom', 'Phylum', 'Class',\n",
      "       'Order', 'Family', 'Genus', 'Species', 'Binomial Name', 'Description',\n",
      "       'Categories', 'References', 'Wiki URL', 'Image', 'Country', 'Habitat'],\n",
      "      dtype='object')\n",
      "Index(['Common Name', 'Conservation status', 'Kingdom', 'Phylum', 'Class',\n",
      "       'Order', 'Family', 'Genus', 'Species', 'Binomial Name', 'Description',\n",
      "       'Categories', 'References', 'Wiki URL', 'Image', 'Country', 'Habitat'],\n",
      "      dtype='object')\n",
      "Index(['Common Name', 'Conservation status', 'Kingdom', 'Phylum', 'Class',\n",
      "       'Order', 'Family', 'Genus', 'Species', 'Binomial Name', 'Description',\n",
      "       'Categories', 'References', 'Wiki URL', 'Image', 'Country', 'Habitat'],\n",
      "      dtype='object')\n"
     ]
    },
    {
     "data": {
      "text/plain": [
       "(11060, 17)"
      ]
     },
     "execution_count": 8,
     "metadata": {},
     "output_type": "execute_result"
    }
   ],
   "source": [
    "wiki_data_sets = [\n",
    "    pd.read_excel('../../assets/DCPP_Group_Assignment/Birds_Dataset.xlsx'),\n",
    "    pd.read_pickle('Pick_wiki_1_2500.pkl'),\n",
    "    pd.read_pickle('Pick_wiki_2500_4321.pkl')\n",
    "    ]\n",
    "wiki_data_sets[0].drop('Serial No',axis=1,inplace=True)\n",
    "wiki_data_sets[1].drop('Synonyms',axis=1,inplace=True)\n",
    "wiki_data_sets[1].rename(columns={\"Name\":\"Common Name\",\"Countries\":\"Country\",\"Summary\":\"Description\"},inplace=True)\n",
    "wiki_data_sets[2].rename(columns={\"Name\":\"Common Name\",\"Countries\":\"Country\",\"Summary\":\"Description\"},inplace=True)\n",
    "\n",
    "for i in wiki_data_sets:\n",
    "    print(i.columns)\n",
    "wiki_dataset = pd.concat(wiki_data_sets,sort=True)\n",
    "wiki_dataset.shape\n",
    "# wiki_dataset.rename()"
   ]
  },
  {
   "cell_type": "code",
   "execution_count": 6,
   "metadata": {},
   "outputs": [],
   "source": [
    "wiki_dataset.to_csv('wiki_data.csv')\n",
    "wiki_dataset.to_pickle('wiki_data.pkl')\n",
    "wiki_dataset.to_excel('Merged_Wiki.xlsx')"
   ]
  },
  {
   "cell_type": "code",
   "execution_count": null,
   "metadata": {},
   "outputs": [],
   "source": []
  }
 ],
 "metadata": {
  "kernelspec": {
   "display_name": "TeWiki",
   "language": "python",
   "name": "indicwiki"
  },
  "language_info": {
   "codemirror_mode": {
    "name": "ipython",
    "version": 3
   },
   "file_extension": ".py",
   "mimetype": "text/x-python",
   "name": "python",
   "nbconvert_exporter": "python",
   "pygments_lexer": "ipython3",
   "version": "3.9.7"
  },
  "orig_nbformat": 4
 },
 "nbformat": 4,
 "nbformat_minor": 2
}
